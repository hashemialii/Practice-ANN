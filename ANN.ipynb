{
 "cells": [
  {
   "cell_type": "markdown",
   "metadata": {
    "id": "uO9zfopS7Y1T"
   },
   "source": [
    "# <p style=\"padding:10px;background-color:#324459;margin:0;color:#eab578;font-family:newtimeroman;font-size:150%;text-align:center;border-radius: 15px 50px;overflow:hidden;font-weight:500\">Practice ANN in Machine Learning</p>\n"
   ]
  },
  {
   "cell_type": "markdown",
   "metadata": {
    "id": "NjRpbOPf7EXu"
   },
   "source": [
    "# <img src=\"https://www.blogsaays.com/wp-content/uploads/2021/08/Artificial-Neural-Networks.jpeg?ezimgfmt=ng%3Awebp%2Fngcb276\">"
   ]
  },
  {
   "cell_type": "markdown",
   "metadata": {
    "id": "lnynbkID7ESb"
   },
   "source": [
    "<a id=\"1\"></a>\n",
    "# <p style=\"padding:10px;background-color:#324459;margin:0;color:#eab578;font-family:newtimeroman;font-size:100%;text-align:center;border-radius: 15px 50px;overflow:hidden;font-weight:500\">Artificial Neural Network</p>\n",
    "\n",
    "\n",
    "The term \"Artificial Neural Network\" is derived from Biological neural networks that develop the structure of a human brain. Similar to the human brain that has neurons interconnected to one another, artificial neural networks also have neurons that are interconnected to one another in various layers of the networks. These neurons are known as nodes.\n",
    "\n"
   ]
  },
  {
   "cell_type": "markdown",
   "metadata": {
    "id": "hrXJfy3M7EMj"
   },
   "source": [
    "# <img src=\"https://149695847.v2.pressablecdn.com/wp-content/uploads/2018/12/nural-network-banner.gif\">\n",
    "\n",
    "# <img src=\"https://miro.medium.com/max/1400/1*hkYlTODpjJgo32DoCOWN5w.png\">"
   ]
  },
  {
   "cell_type": "markdown",
   "metadata": {
    "id": "A1njfuQn7EJg"
   },
   "source": [
    "Dendrites from Biological Neural Network represent inputs in Artificial Neural Networks, cell nucleus represents Nodes, synapse represents Weights, and Axon represents Output."
   ]
  },
  {
   "cell_type": "markdown",
   "metadata": {
    "id": "HxauQ8Xd7EG8"
   },
   "source": [
    "<a id=\"2\"></a>\n",
    "# <p style=\"padding:10px;background-color:#324459;margin:0;color:#eab578;font-family:newtimeroman;font-size:100%;text-align:center;border-radius: 15px 50px;overflow:hidden;font-weight:500\">The Architecture of an Artificial Neural Network</p>\n",
    "\n",
    "\n",
    "To understand the concept of the architecture of an artificial neural network, we have to understand what a neural network consists of. In order to define a neural network that consists of a large number of artificial neurons, which are termed units arranged in a sequence of layers. Lets us look at various types of layers available in an artificial neural network.\n",
    "\n",
    "Artificial Neural Network primarily consists of three layers:\n",
    "\n"
   ]
  },
  {
   "cell_type": "markdown",
   "metadata": {
    "id": "o8o2Mt0o7EES"
   },
   "source": [
    "# <img src=\"https://machinelearningknowledge.ai/wp-content/uploads/2019/10/Feed-Forward-Neural-Network.gif\">"
   ]
  },
  {
   "cell_type": "markdown",
   "metadata": {
    "id": "IbKLKZLR7EBn"
   },
   "source": [
    "### <p style=\"padding:10px;background-color:#324459;margin:0;color:#eab578;font-family:newtimeroman;font-size:100%;text-align:center;border-radius: 15px 50px;overflow:hidden;font-weight:500\">Input Layerk</p>\n",
    "\n",
    "As the name suggests, it accepts inputs in several different formats provided by the programmer.\n",
    "\n",
    "### <p style=\"padding:10px;background-color:#324459;margin:0;color:#eab578;font-family:newtimeroman;font-size:100%;text-align:center;border-radius: 15px 50px;overflow:hidden;font-weight:500\">Hidden Layerk</p>\n",
    "\n",
    "\n",
    "The hidden layer presents in-between input and output layers. It performs all the calculations to find hidden features and patterns.\n",
    "\n",
    "### <p style=\"padding:10px;background-color:#324459;margin:0;color:#eab578;font-family:newtimeroman;font-size:100%;text-align:center;border-radius: 15px 50px;overflow:hidden;font-weight:500\">Output Layerk</p>\n",
    "\n",
    "\n",
    "The input goes through a series of transformations using the hidden layer, which finally results in output that is conveyed using this layer.\n",
    "\n",
    "The artificial neural network takes input and computes the weighted sum of the inputs and includes a bias. This computation is represented in the form of a transfer function.\n",
    "\n",
    "# <img src=\"https://miro.medium.com/max/960/1*0lejoYyyQWjYzEP_BNW2nw.jpeg\">\n",
    "\n",
    "It determines weighted total is passed as an input to an activation function to produce the output. Activation functions choose whether a node should fire or not. Only those who are fired make it to the output layer. There are distinctive activation functions available that can be applied upon the sort of task we are performing."
   ]
  },
  {
   "cell_type": "markdown",
   "metadata": {
    "id": "RQvkWXi57D-z"
   },
   "source": [
    "<a id=\"2\"></a>\n",
    "# <p style=\"padding:10px;background-color:#324459;margin:0;color:#eab578;font-family:newtimeroman;font-size:100%;text-align:center;border-radius: 15px 50px;overflow:hidden;font-weight:500\">Advantages of Artificial Neural Network</p>\n",
    "\n",
    "# <img src=\"https://adatis.co.uk/wp-content/uploads/Neural-Architecture-Optimization.png\">\n",
    "\n",
    "\n",
    "\n",
    "<font color = \"red\">Parallel processing capability:</font>\n",
    "\n",
    "Artificial neural networks have a numerical value that can perform more than one task simultaneously.\n",
    "\n",
    "<font color = \"red\">Storing data on the entire network:</font>\n",
    "\n",
    "Data that is used in traditional programming is stored on the whole network, not on a database. The disappearance of a couple of pieces of data in one place doesn't prevent the network from working.\n",
    "\n",
    "<font color = \"red\">Capability to work with incomplete knowledge:</font>\n",
    "\n",
    "After ANN training, the information may produce output even with inadequate data. The loss of performance here relies upon the significance of missing data.\n",
    "\n",
    "<font color = \"red\">Having a memory distribution:</font>\n",
    "\n",
    "For ANN is to be able to adapt, it is important to determine the examples and to encourage the network according to the desired output by demonstrating these examples to the network. The succession of the network is directly proportional to the chosen instances, and if the event can't appear to the network in all its aspects, it can produce false output.\n",
    "\n",
    "\n",
    "<font color = \"red\">Having fault tolerance:</font>\n",
    "\n",
    "Extortion of one or more cells of ANN does not prohibit it from generating output, and this feature makes the network fault-tolerance."
   ]
  },
  {
   "cell_type": "markdown",
   "metadata": {
    "id": "vHV9fjqr7D7R"
   },
   "source": [
    "# <p style=\"padding:10px;background-color:#324459;margin:0;color:#eab578;font-family:newtimeroman;font-size:100%;text-align:center;border-radius: 15px 50px;overflow:hidden;font-weight:500\">Disadvantages of Artificial Neural Network</p>\n",
    "\n",
    "<font color = \"red\">Assurance of proper network structure:</font>\n",
    "\n",
    "There is no particular guideline for determining the structure of artificial neural networks. The appropriate network structure is accomplished through experience, trial, and error.\n",
    "\n",
    "<font color = \"red\">Unrecognized behavior of the network:</font>\n",
    "\n",
    "It is the most significant issue of ANN. When ANN produces a testing solution, it does not provide insight concerning why and how. It decreases trust in the network.\n",
    "\n",
    "<font color = \"red\">Hardware dependence:</font>\n",
    "\n",
    "Artificial neural networks need processors with parallel processing power, as per their structure. Therefore, the realization of the equipment is dependent.\n",
    "\n",
    "<font color = \"red\">Difficulty of showing the issue to the network:</font>\n",
    "\n",
    "ANNs can work with numerical data. Problems must be converted into numerical values before being introduced to ANN. The presentation mechanism to be resolved here will directly impact the performance of the network. It relies on the user's abilities.\n",
    "\n",
    "<font color = \"red\">The duration of the network is unknown:</font>\n",
    "\n",
    "The network is reduced to a specific value of the error, and this value does not give us optimum results."
   ]
  },
  {
   "cell_type": "markdown",
   "metadata": {
    "id": "ZR_Kxr4i7D3o"
   },
   "source": [
    "# <p style=\"padding:10px;background-color:#324459;margin:0;color:#eab578;font-family:newtimeroman;font-size:100%;text-align:center;border-radius: 15px 50px;overflow:hidden;font-weight:500\">How do Artificial Neural Networks work?</p>\n",
    "\n",
    "# <img src=\"https://cdn-images-1.medium.com/fit/t/1600/480/1*F5IKudcD4acJb0hcfoIVdA.gif\">\n",
    "\n",
    "Afterward, each of the input is multiplied by its corresponding weights ( these weights are the details utilized by the artificial neural networks to solve a specific problem ). In general terms, these weights normally represent the strength of the interconnection between neurons inside the artificial neural network. All the weighted inputs are summarized inside the computing unit.\n",
    "\n",
    "If the weighted sum is equal to zero, then bias is added to make the output non-zero or something else to scale up to the system's response. Bias has the same input, and weight equals to 1. Here the total of weighted inputs can be in the range of 0 to positive infinity. Here, to keep the response in the limits of the desired value, a certain maximum value is benchmarked, and the total of weighted inputs is passed through the activation function.\n",
    "\n",
    "The activation function refers to the set of transfer functions used to achieve the desired output. There is a different kind of the activation function, but primarily either linear or non-linear sets of functions. Some of the commonly used sets of activation functions are the Binary, linear, and Tan hyperbolic sigmoidal activation functions. Let us take a look at each of them in details:\n",
    "\n",
    "<font color = \"red\">Binary:</font>\n",
    "\n",
    "In binary activation function, the output is either a one or a 0. Here, to accomplish this, there is a threshold value set up. If the net weighted input of neurons is more than 1, then the final output of the activation function is returned as one or else the output is returned as 0.\n",
    "\n",
    "<font color = \"red\">Sigmoidal Hyperbolic:</font>\n",
    "\n",
    "The Sigmoidal Hyperbola function is generally seen as an \"S\" shaped curve. Here the tan hyperbolic function is used to approximate output from the actual net input. The function is defined as:\n",
    "\n",
    "F(x) = (1/1 + exp(-????x))\n",
    "\n",
    "Where ???? is considered the Steepness parameter.\n",
    "\n",
    "<font color = \"red\">Types of Artificial Neural Network:</font>\n",
    "\n",
    "There are various types of Artificial Neural Networks (ANN) depending upon the human brain neuron and network functions, an artificial neural network similarly performs tasks. The majority of the artificial neural networks will have some similarities with a more complex biological partner and are very effective at their expected tasks. For example, segmentation or classification.\n",
    "\n",
    "<font color = \"red\">Feedback ANN:</font>\n",
    "\n",
    "In this type of ANN, the output returns into the network to accomplish the best-evolved results internally. As per the University of Massachusetts, Lowell Centre for Atmospheric Research. The feedback networks feed information back into itself and are well suited to solve optimization issues. The Internal system error corrections utilize feedback ANNs.\n",
    "\n",
    "<font color = \"red\">Feed-Forward ANN:</font>\n",
    "\n",
    "A feed-forward network is a basic neural network comprising of an input layer, an output layer, and at least one layer of a neuron. Through assessment of its output by reviewing its input, the intensity of the network can be noticed based on group behavior of the associated neurons, and the output is decided. The primary advantage of this network is that it figures out how to evaluate and recognize input patterns."
   ]
  },
  {
   "cell_type": "markdown",
   "metadata": {
    "id": "aTYZtjVNHdz9"
   },
   "source": [
    "<a id=\"2\"></a>\n",
    "# <p style=\"padding:10px;background-color:#324459;margin:0;color:#eab578;font-family:newtimeroman;font-size:100%;text-align:center;border-radius: 15px 50px;overflow:hidden;font-weight:500\">Back Propagation in Artificial Neural Networks</p>\n",
    "\n",
    "In order to train a neural network, we provide it with examples of input-output mappings. Finally, when the neural network completes the training, we test the neural network where we do not provide it with these mappings. The neural network predicts the output and we evaluate how correct the output is using the various error functions. Finally, based on the result, the model adjusts the weights of the neural networks to optimize the network following gradient descent through the chain rule.\n",
    "\n",
    "# <img src=\"https://miro.medium.com/max/640/1*VF9xl3cZr2_qyoLfDJajZw.gif\">\n",
    "\n",
    "# <img src=\"https://i0.wp.com/neptune.ai/wp-content/uploads/Backpropagation-passes-architecture.png?resize=434%2C414&ssl=1\">"
   ]
  },
  {
   "cell_type": "markdown",
   "metadata": {
    "id": "BuW838z7I60m"
   },
   "source": [
    "<a id=\"2\"></a>\n",
    "# <p style=\"padding:10px;background-color:#324459;margin:0;color:#eab578;font-family:newtimeroman;font-size:100%;text-align:center;border-radius: 15px 50px;overflow:hidden;font-weight:500\">Importing Libraries</p>"
   ]
  },
  {
   "cell_type": "code",
   "execution_count": 95,
   "metadata": {
    "executionInfo": {
     "elapsed": 456,
     "status": "ok",
     "timestamp": 1667593110329,
     "user": {
      "displayName": "Ali Hashemi",
      "userId": "01793105742760068009"
     },
     "user_tz": -210
    },
    "id": "K8xueaDpJNRC"
   },
   "outputs": [],
   "source": [
    "import numpy as np\n",
    "import pandas as pd\n",
    "import tensorflow as tf\n",
    "import seaborn as sns"
   ]
  },
  {
   "cell_type": "code",
   "execution_count": 96,
   "metadata": {
    "colab": {
     "base_uri": "https://localhost:8080/",
     "height": 35
    },
    "executionInfo": {
     "elapsed": 64,
     "status": "ok",
     "timestamp": 1667593111512,
     "user": {
      "displayName": "Ali Hashemi",
      "userId": "01793105742760068009"
     },
     "user_tz": -210
    },
    "id": "Rr2-NVhDJ1Hw",
    "outputId": "75acced7-4953-4bae-96ac-b4b8f6351e8b"
   },
   "outputs": [
    {
     "data": {
      "application/vnd.google.colaboratory.intrinsic+json": {
       "type": "string"
      },
      "text/plain": [
       "'2.9.2'"
      ]
     },
     "execution_count": 96,
     "metadata": {},
     "output_type": "execute_result"
    }
   ],
   "source": [
    "tf.__version__"
   ]
  },
  {
   "cell_type": "markdown",
   "metadata": {
    "id": "PXCEMkMUJZLP"
   },
   "source": [
    "<a id=\"2\"></a>\n",
    "# <p style=\"padding:10px;background-color:#324459;margin:0;color:#eab578;font-family:newtimeroman;font-size:100%;text-align:center;border-radius: 15px 50px;overflow:hidden;font-weight:500\">importing Dataset</p>"
   ]
  },
  {
   "cell_type": "code",
   "execution_count": 97,
   "metadata": {
    "colab": {
     "base_uri": "https://localhost:8080/",
     "height": 206
    },
    "executionInfo": {
     "elapsed": 56,
     "status": "ok",
     "timestamp": 1667593111513,
     "user": {
      "displayName": "Ali Hashemi",
      "userId": "01793105742760068009"
     },
     "user_tz": -210
    },
    "id": "oynNAvFeJ1_d",
    "outputId": "9651001e-2a07-4ba2-a98f-3185a43416df"
   },
   "outputs": [
    {
     "data": {
      "text/html": [
       "\n",
       "  <div id=\"df-d05101e5-9b9a-402e-b62c-15a6cd28d474\">\n",
       "    <div class=\"colab-df-container\">\n",
       "      <div>\n",
       "<style scoped>\n",
       "    .dataframe tbody tr th:only-of-type {\n",
       "        vertical-align: middle;\n",
       "    }\n",
       "\n",
       "    .dataframe tbody tr th {\n",
       "        vertical-align: top;\n",
       "    }\n",
       "\n",
       "    .dataframe thead th {\n",
       "        text-align: right;\n",
       "    }\n",
       "</style>\n",
       "<table border=\"1\" class=\"dataframe\">\n",
       "  <thead>\n",
       "    <tr style=\"text-align: right;\">\n",
       "      <th></th>\n",
       "      <th>RowNumber</th>\n",
       "      <th>CustomerId</th>\n",
       "      <th>Surname</th>\n",
       "      <th>CreditScore</th>\n",
       "      <th>Geography</th>\n",
       "      <th>Gender</th>\n",
       "      <th>Age</th>\n",
       "      <th>Tenure</th>\n",
       "      <th>Balance</th>\n",
       "      <th>NumOfProducts</th>\n",
       "      <th>HasCrCard</th>\n",
       "      <th>IsActiveMember</th>\n",
       "      <th>EstimatedSalary</th>\n",
       "      <th>Exited</th>\n",
       "    </tr>\n",
       "  </thead>\n",
       "  <tbody>\n",
       "    <tr>\n",
       "      <th>0</th>\n",
       "      <td>1</td>\n",
       "      <td>15634602</td>\n",
       "      <td>Hargrave</td>\n",
       "      <td>619</td>\n",
       "      <td>France</td>\n",
       "      <td>Female</td>\n",
       "      <td>42</td>\n",
       "      <td>2</td>\n",
       "      <td>0.00</td>\n",
       "      <td>1</td>\n",
       "      <td>1</td>\n",
       "      <td>1</td>\n",
       "      <td>101348.88</td>\n",
       "      <td>1</td>\n",
       "    </tr>\n",
       "    <tr>\n",
       "      <th>1</th>\n",
       "      <td>2</td>\n",
       "      <td>15647311</td>\n",
       "      <td>Hill</td>\n",
       "      <td>608</td>\n",
       "      <td>Spain</td>\n",
       "      <td>Female</td>\n",
       "      <td>41</td>\n",
       "      <td>1</td>\n",
       "      <td>83807.86</td>\n",
       "      <td>1</td>\n",
       "      <td>0</td>\n",
       "      <td>1</td>\n",
       "      <td>112542.58</td>\n",
       "      <td>0</td>\n",
       "    </tr>\n",
       "    <tr>\n",
       "      <th>2</th>\n",
       "      <td>3</td>\n",
       "      <td>15619304</td>\n",
       "      <td>Onio</td>\n",
       "      <td>502</td>\n",
       "      <td>France</td>\n",
       "      <td>Female</td>\n",
       "      <td>42</td>\n",
       "      <td>8</td>\n",
       "      <td>159660.80</td>\n",
       "      <td>3</td>\n",
       "      <td>1</td>\n",
       "      <td>0</td>\n",
       "      <td>113931.57</td>\n",
       "      <td>1</td>\n",
       "    </tr>\n",
       "    <tr>\n",
       "      <th>3</th>\n",
       "      <td>4</td>\n",
       "      <td>15701354</td>\n",
       "      <td>Boni</td>\n",
       "      <td>699</td>\n",
       "      <td>France</td>\n",
       "      <td>Female</td>\n",
       "      <td>39</td>\n",
       "      <td>1</td>\n",
       "      <td>0.00</td>\n",
       "      <td>2</td>\n",
       "      <td>0</td>\n",
       "      <td>0</td>\n",
       "      <td>93826.63</td>\n",
       "      <td>0</td>\n",
       "    </tr>\n",
       "    <tr>\n",
       "      <th>4</th>\n",
       "      <td>5</td>\n",
       "      <td>15737888</td>\n",
       "      <td>Mitchell</td>\n",
       "      <td>850</td>\n",
       "      <td>Spain</td>\n",
       "      <td>Female</td>\n",
       "      <td>43</td>\n",
       "      <td>2</td>\n",
       "      <td>125510.82</td>\n",
       "      <td>1</td>\n",
       "      <td>1</td>\n",
       "      <td>1</td>\n",
       "      <td>79084.10</td>\n",
       "      <td>0</td>\n",
       "    </tr>\n",
       "  </tbody>\n",
       "</table>\n",
       "</div>\n",
       "      <button class=\"colab-df-convert\" onclick=\"convertToInteractive('df-d05101e5-9b9a-402e-b62c-15a6cd28d474')\"\n",
       "              title=\"Convert this dataframe to an interactive table.\"\n",
       "              style=\"display:none;\">\n",
       "        \n",
       "  <svg xmlns=\"http://www.w3.org/2000/svg\" height=\"24px\"viewBox=\"0 0 24 24\"\n",
       "       width=\"24px\">\n",
       "    <path d=\"M0 0h24v24H0V0z\" fill=\"none\"/>\n",
       "    <path d=\"M18.56 5.44l.94 2.06.94-2.06 2.06-.94-2.06-.94-.94-2.06-.94 2.06-2.06.94zm-11 1L8.5 8.5l.94-2.06 2.06-.94-2.06-.94L8.5 2.5l-.94 2.06-2.06.94zm10 10l.94 2.06.94-2.06 2.06-.94-2.06-.94-.94-2.06-.94 2.06-2.06.94z\"/><path d=\"M17.41 7.96l-1.37-1.37c-.4-.4-.92-.59-1.43-.59-.52 0-1.04.2-1.43.59L10.3 9.45l-7.72 7.72c-.78.78-.78 2.05 0 2.83L4 21.41c.39.39.9.59 1.41.59.51 0 1.02-.2 1.41-.59l7.78-7.78 2.81-2.81c.8-.78.8-2.07 0-2.86zM5.41 20L4 18.59l7.72-7.72 1.47 1.35L5.41 20z\"/>\n",
       "  </svg>\n",
       "      </button>\n",
       "      \n",
       "  <style>\n",
       "    .colab-df-container {\n",
       "      display:flex;\n",
       "      flex-wrap:wrap;\n",
       "      gap: 12px;\n",
       "    }\n",
       "\n",
       "    .colab-df-convert {\n",
       "      background-color: #E8F0FE;\n",
       "      border: none;\n",
       "      border-radius: 50%;\n",
       "      cursor: pointer;\n",
       "      display: none;\n",
       "      fill: #1967D2;\n",
       "      height: 32px;\n",
       "      padding: 0 0 0 0;\n",
       "      width: 32px;\n",
       "    }\n",
       "\n",
       "    .colab-df-convert:hover {\n",
       "      background-color: #E2EBFA;\n",
       "      box-shadow: 0px 1px 2px rgba(60, 64, 67, 0.3), 0px 1px 3px 1px rgba(60, 64, 67, 0.15);\n",
       "      fill: #174EA6;\n",
       "    }\n",
       "\n",
       "    [theme=dark] .colab-df-convert {\n",
       "      background-color: #3B4455;\n",
       "      fill: #D2E3FC;\n",
       "    }\n",
       "\n",
       "    [theme=dark] .colab-df-convert:hover {\n",
       "      background-color: #434B5C;\n",
       "      box-shadow: 0px 1px 3px 1px rgba(0, 0, 0, 0.15);\n",
       "      filter: drop-shadow(0px 1px 2px rgba(0, 0, 0, 0.3));\n",
       "      fill: #FFFFFF;\n",
       "    }\n",
       "  </style>\n",
       "\n",
       "      <script>\n",
       "        const buttonEl =\n",
       "          document.querySelector('#df-d05101e5-9b9a-402e-b62c-15a6cd28d474 button.colab-df-convert');\n",
       "        buttonEl.style.display =\n",
       "          google.colab.kernel.accessAllowed ? 'block' : 'none';\n",
       "\n",
       "        async function convertToInteractive(key) {\n",
       "          const element = document.querySelector('#df-d05101e5-9b9a-402e-b62c-15a6cd28d474');\n",
       "          const dataTable =\n",
       "            await google.colab.kernel.invokeFunction('convertToInteractive',\n",
       "                                                     [key], {});\n",
       "          if (!dataTable) return;\n",
       "\n",
       "          const docLinkHtml = 'Like what you see? Visit the ' +\n",
       "            '<a target=\"_blank\" href=https://colab.research.google.com/notebooks/data_table.ipynb>data table notebook</a>'\n",
       "            + ' to learn more about interactive tables.';\n",
       "          element.innerHTML = '';\n",
       "          dataTable['output_type'] = 'display_data';\n",
       "          await google.colab.output.renderOutput(dataTable, element);\n",
       "          const docLink = document.createElement('div');\n",
       "          docLink.innerHTML = docLinkHtml;\n",
       "          element.appendChild(docLink);\n",
       "        }\n",
       "      </script>\n",
       "    </div>\n",
       "  </div>\n",
       "  "
      ],
      "text/plain": [
       "   RowNumber  CustomerId   Surname  CreditScore Geography  Gender  Age  \\\n",
       "0          1    15634602  Hargrave          619    France  Female   42   \n",
       "1          2    15647311      Hill          608     Spain  Female   41   \n",
       "2          3    15619304      Onio          502    France  Female   42   \n",
       "3          4    15701354      Boni          699    France  Female   39   \n",
       "4          5    15737888  Mitchell          850     Spain  Female   43   \n",
       "\n",
       "   Tenure    Balance  NumOfProducts  HasCrCard  IsActiveMember  \\\n",
       "0       2       0.00              1          1               1   \n",
       "1       1   83807.86              1          0               1   \n",
       "2       8  159660.80              3          1               0   \n",
       "3       1       0.00              2          0               0   \n",
       "4       2  125510.82              1          1               1   \n",
       "\n",
       "   EstimatedSalary  Exited  \n",
       "0        101348.88       1  \n",
       "1        112542.58       0  \n",
       "2        113931.57       1  \n",
       "3         93826.63       0  \n",
       "4         79084.10       0  "
      ]
     },
     "execution_count": 97,
     "metadata": {},
     "output_type": "execute_result"
    }
   ],
   "source": [
    "dataset = pd.read_csv('Churn_Modelling.csv')\n",
    "dataset.head()"
   ]
  },
  {
   "cell_type": "code",
   "execution_count": 98,
   "metadata": {
    "executionInfo": {
     "elapsed": 55,
     "status": "ok",
     "timestamp": 1667593111514,
     "user": {
      "displayName": "Ali Hashemi",
      "userId": "01793105742760068009"
     },
     "user_tz": -210
    },
    "id": "qYHfwHcRQh_2"
   },
   "outputs": [],
   "source": [
    "X = dataset.iloc[:, 3:-1].values\n",
    "y = dataset.iloc[:, -1].values"
   ]
  },
  {
   "cell_type": "code",
   "execution_count": 99,
   "metadata": {
    "colab": {
     "base_uri": "https://localhost:8080/"
    },
    "executionInfo": {
     "elapsed": 56,
     "status": "ok",
     "timestamp": 1667593111515,
     "user": {
      "displayName": "Ali Hashemi",
      "userId": "01793105742760068009"
     },
     "user_tz": -210
    },
    "id": "10AnFy8qJ2SB",
    "outputId": "233c7e14-1bcf-4f96-e6e6-74aeeeee0b18"
   },
   "outputs": [
    {
     "data": {
      "text/plain": [
       "(10000, 10)"
      ]
     },
     "execution_count": 99,
     "metadata": {},
     "output_type": "execute_result"
    }
   ],
   "source": [
    "X.shape"
   ]
  },
  {
   "cell_type": "code",
   "execution_count": 100,
   "metadata": {
    "colab": {
     "base_uri": "https://localhost:8080/"
    },
    "executionInfo": {
     "elapsed": 52,
     "status": "ok",
     "timestamp": 1667593111516,
     "user": {
      "displayName": "Ali Hashemi",
      "userId": "01793105742760068009"
     },
     "user_tz": -210
    },
    "id": "f8uqqSvAQg6N",
    "outputId": "94f40cdf-e83f-45ed-c6b4-0d16f33d2f21"
   },
   "outputs": [
    {
     "name": "stdout",
     "output_type": "stream",
     "text": [
      "[[619 'France' 'Female' ... 1 1 101348.88]\n",
      " [608 'Spain' 'Female' ... 0 1 112542.58]\n",
      " [502 'France' 'Female' ... 1 0 113931.57]\n",
      " ...\n",
      " [709 'France' 'Female' ... 0 1 42085.58]\n",
      " [772 'Germany' 'Male' ... 1 0 92888.52]\n",
      " [792 'France' 'Female' ... 1 0 38190.78]]\n"
     ]
    }
   ],
   "source": [
    "print(X)"
   ]
  },
  {
   "cell_type": "code",
   "execution_count": 101,
   "metadata": {
    "colab": {
     "base_uri": "https://localhost:8080/"
    },
    "executionInfo": {
     "elapsed": 49,
     "status": "ok",
     "timestamp": 1667593111517,
     "user": {
      "displayName": "Ali Hashemi",
      "userId": "01793105742760068009"
     },
     "user_tz": -210
    },
    "id": "_NI5wb21RFWj",
    "outputId": "2f3e4bae-8962-4371-f8c0-4f19c40b4965"
   },
   "outputs": [
    {
     "name": "stdout",
     "output_type": "stream",
     "text": [
      "[1 0 1 ... 1 1 0]\n"
     ]
    }
   ],
   "source": [
    "print(y)"
   ]
  },
  {
   "cell_type": "markdown",
   "metadata": {
    "id": "3XpJUGrmPUHN"
   },
   "source": [
    "<a id=\"2\"></a>\n",
    "# <p style=\"padding:10px;background-color:#324459;margin:0;color:#eab578;font-family:newtimeroman;font-size:100%;text-align:center;border-radius: 15px 50px;overflow:hidden;font-weight:500\">Encoding categorical data</p>\n",
    "\n",
    "* Label Encoding the **Gender** column"
   ]
  },
  {
   "cell_type": "code",
   "execution_count": 102,
   "metadata": {
    "executionInfo": {
     "elapsed": 45,
     "status": "ok",
     "timestamp": 1667593111518,
     "user": {
      "displayName": "Ali Hashemi",
      "userId": "01793105742760068009"
     },
     "user_tz": -210
    },
    "id": "tCr9EmjtRPRZ"
   },
   "outputs": [],
   "source": [
    "from sklearn.preprocessing import LabelEncoder\n",
    "le = LabelEncoder()\n",
    "X[:, 2] = le.fit_transform(X[:, 2])"
   ]
  },
  {
   "cell_type": "code",
   "execution_count": 103,
   "metadata": {
    "colab": {
     "base_uri": "https://localhost:8080/"
    },
    "executionInfo": {
     "elapsed": 46,
     "status": "ok",
     "timestamp": 1667593111519,
     "user": {
      "displayName": "Ali Hashemi",
      "userId": "01793105742760068009"
     },
     "user_tz": -210
    },
    "id": "QX_yIdMKR61Y",
    "outputId": "2f7d9de3-41df-4c18-f6f6-4967c97d47f9"
   },
   "outputs": [
    {
     "name": "stdout",
     "output_type": "stream",
     "text": [
      "[[619 'France' 0 ... 1 1 101348.88]\n",
      " [608 'Spain' 0 ... 0 1 112542.58]\n",
      " [502 'France' 0 ... 1 0 113931.57]\n",
      " ...\n",
      " [709 'France' 0 ... 0 1 42085.58]\n",
      " [772 'Germany' 1 ... 1 0 92888.52]\n",
      " [792 'France' 0 ... 1 0 38190.78]]\n"
     ]
    }
   ],
   "source": [
    "print(X)"
   ]
  },
  {
   "cell_type": "code",
   "execution_count": 104,
   "metadata": {
    "colab": {
     "base_uri": "https://localhost:8080/"
    },
    "executionInfo": {
     "elapsed": 45,
     "status": "ok",
     "timestamp": 1667593111522,
     "user": {
      "displayName": "Ali Hashemi",
      "userId": "01793105742760068009"
     },
     "user_tz": -210
    },
    "id": "svn7-80ISSZf",
    "outputId": "30e7439b-6063-48ec-ff67-20574798933c"
   },
   "outputs": [
    {
     "data": {
      "text/plain": [
       "array([608, 'Spain', 0, 41, 1, 83807.86, 1, 0, 1, 112542.58], dtype=object)"
      ]
     },
     "execution_count": 104,
     "metadata": {},
     "output_type": "execute_result"
    }
   ],
   "source": [
    "X[1]"
   ]
  },
  {
   "cell_type": "markdown",
   "metadata": {
    "id": "XVPCa-AGKUbq"
   },
   "source": [
    "<a id=\"2\"></a>\n",
    "## <p style=\"padding:10px;background-color:#324459;margin:0;color:#eab578;font-family:newtimeroman;font-size:100%;text-align:center;border-radius: 15px 50px;overflow:hidden;font-weight:500\">One Hot Encoding the **Geography** column</p>"
   ]
  },
  {
   "cell_type": "code",
   "execution_count": 105,
   "metadata": {
    "executionInfo": {
     "elapsed": 43,
     "status": "ok",
     "timestamp": 1667593111524,
     "user": {
      "displayName": "Ali Hashemi",
      "userId": "01793105742760068009"
     },
     "user_tz": -210
    },
    "id": "4w9eo6ISSa27"
   },
   "outputs": [],
   "source": [
    "from sklearn.compose import ColumnTransformer\n",
    "from sklearn.preprocessing import OneHotEncoder\n",
    "ct = ColumnTransformer(transformers=[('encoder', OneHotEncoder(), [1])], remainder='passthrough')\n",
    "X = np.array(ct.fit_transform(X))"
   ]
  },
  {
   "cell_type": "code",
   "execution_count": 106,
   "metadata": {
    "colab": {
     "base_uri": "https://localhost:8080/"
    },
    "executionInfo": {
     "elapsed": 44,
     "status": "ok",
     "timestamp": 1667593111526,
     "user": {
      "displayName": "Ali Hashemi",
      "userId": "01793105742760068009"
     },
     "user_tz": -210
    },
    "id": "v6R0MD2JThJn",
    "outputId": "91bf5f1d-34c8-4861-d15a-a280bf7afa09"
   },
   "outputs": [
    {
     "data": {
      "text/plain": [
       "(10000, 12)"
      ]
     },
     "execution_count": 106,
     "metadata": {},
     "output_type": "execute_result"
    }
   ],
   "source": [
    "X.shape"
   ]
  },
  {
   "cell_type": "code",
   "execution_count": 107,
   "metadata": {
    "colab": {
     "base_uri": "https://localhost:8080/"
    },
    "executionInfo": {
     "elapsed": 40,
     "status": "ok",
     "timestamp": 1667593111527,
     "user": {
      "displayName": "Ali Hashemi",
      "userId": "01793105742760068009"
     },
     "user_tz": -210
    },
    "id": "W0myohXJVszc",
    "outputId": "5f1b5f62-f086-4e1a-90ef-fe5c1c48bf28"
   },
   "outputs": [
    {
     "data": {
      "text/plain": [
       "array([[1.0, 0.0, 0.0, ..., 1, 1, 101348.88],\n",
       "       [0.0, 0.0, 1.0, ..., 0, 1, 112542.58],\n",
       "       [1.0, 0.0, 0.0, ..., 1, 0, 113931.57],\n",
       "       ...,\n",
       "       [1.0, 0.0, 0.0, ..., 0, 1, 42085.58],\n",
       "       [0.0, 1.0, 0.0, ..., 1, 0, 92888.52],\n",
       "       [1.0, 0.0, 0.0, ..., 1, 0, 38190.78]], dtype=object)"
      ]
     },
     "execution_count": 107,
     "metadata": {},
     "output_type": "execute_result"
    }
   ],
   "source": [
    "X"
   ]
  },
  {
   "cell_type": "markdown",
   "metadata": {
    "id": "v5zsmMqyKwCh"
   },
   "source": [
    "<a id=\"2\"></a>\n",
    "## <p style=\"padding:10px;background-color:#324459;margin:0;color:#eab578;font-family:newtimeroman;font-size:100%;text-align:center;border-radius: 15px 50px;overflow:hidden;font-weight:500\">Split a Dataset Into Training and Testing Sets</p>"
   ]
  },
  {
   "cell_type": "code",
   "execution_count": 108,
   "metadata": {
    "executionInfo": {
     "elapsed": 40,
     "status": "ok",
     "timestamp": 1667593111530,
     "user": {
      "displayName": "Ali Hashemi",
      "userId": "01793105742760068009"
     },
     "user_tz": -210
    },
    "id": "EAusxg8PVts2"
   },
   "outputs": [],
   "source": [
    "from sklearn.model_selection import train_test_split\n",
    "X_train, X_test, y_train, y_test = train_test_split(X, y, test_size=0.2, random_state=0)"
   ]
  },
  {
   "cell_type": "markdown",
   "metadata": {
    "id": "okqYlzfjroeO"
   },
   "source": [
    "<a id=\"2\"></a>\n",
    "## <p style=\"padding:10px;background-color:#324459;margin:0;color:#eab578;font-family:newtimeroman;font-size:100%;text-align:center;border-radius: 15px 50px;overflow:hidden;font-weight:500\">Feature Scaling</p>"
   ]
  },
  {
   "cell_type": "code",
   "execution_count": 109,
   "metadata": {
    "executionInfo": {
     "elapsed": 42,
     "status": "ok",
     "timestamp": 1667593111532,
     "user": {
      "displayName": "Ali Hashemi",
      "userId": "01793105742760068009"
     },
     "user_tz": -210
    },
    "id": "8Y96g_90V0Wj"
   },
   "outputs": [],
   "source": [
    "from sklearn.preprocessing import StandardScaler\n",
    "sc = StandardScaler()\n",
    "X_train = sc.fit_transform(X_train)\n",
    "X_test = sc.transform(X_test)"
   ]
  },
  {
   "cell_type": "markdown",
   "metadata": {
    "id": "z7jPFb0Srvgh"
   },
   "source": [
    "<a id=\"2\"></a>\n",
    "## <p style=\"padding:10px;background-color:#324459;margin:0;color:#eab578;font-family:newtimeroman;font-size:100%;text-align:center;border-radius: 15px 50px;overflow:hidden;font-weight:500\">Building the ANN(batch size = 32)</p>"
   ]
  },
  {
   "cell_type": "markdown",
   "metadata": {
    "id": "MaygPu0bLx0P"
   },
   "source": [
    "* <font color = \"red\">Initializing the ANN</font>"
   ]
  },
  {
   "cell_type": "code",
   "execution_count": 110,
   "metadata": {
    "executionInfo": {
     "elapsed": 42,
     "status": "ok",
     "timestamp": 1667593111533,
     "user": {
      "displayName": "Ali Hashemi",
      "userId": "01793105742760068009"
     },
     "user_tz": -210
    },
    "id": "KS03vjz9XCPs"
   },
   "outputs": [],
   "source": [
    "ann = tf.keras.models.Sequential()"
   ]
  },
  {
   "cell_type": "markdown",
   "metadata": {
    "id": "BHGhkVLtMABg"
   },
   "source": [
    "* <font color = \"red\">Adding the input layer and the first hidden layer</font>"
   ]
  },
  {
   "cell_type": "code",
   "execution_count": 111,
   "metadata": {
    "executionInfo": {
     "elapsed": 43,
     "status": "ok",
     "timestamp": 1667593111534,
     "user": {
      "displayName": "Ali Hashemi",
      "userId": "01793105742760068009"
     },
     "user_tz": -210
    },
    "id": "zQtu4gtUXWLl"
   },
   "outputs": [],
   "source": [
    "ann.add(tf.keras.layers.Dense(units=6, activation='relu'))"
   ]
  },
  {
   "cell_type": "markdown",
   "metadata": {
    "id": "zfIZUTb7MHTs"
   },
   "source": [
    "* <font color = \"red\">Adding the second hidden layer</font>"
   ]
  },
  {
   "cell_type": "code",
   "execution_count": 112,
   "metadata": {
    "executionInfo": {
     "elapsed": 44,
     "status": "ok",
     "timestamp": 1667593111535,
     "user": {
      "displayName": "Ali Hashemi",
      "userId": "01793105742760068009"
     },
     "user_tz": -210
    },
    "id": "But5bxNMRrws"
   },
   "outputs": [],
   "source": [
    "ann.add(tf.keras.layers.Dense(units=6, activation='relu'))"
   ]
  },
  {
   "cell_type": "markdown",
   "metadata": {
    "id": "cDw65PS3MF-X"
   },
   "source": [
    "* <font color = \"red\">Adding the output layer</font>"
   ]
  },
  {
   "cell_type": "code",
   "execution_count": 113,
   "metadata": {
    "executionInfo": {
     "elapsed": 46,
     "status": "ok",
     "timestamp": 1667593111538,
     "user": {
      "displayName": "Ali Hashemi",
      "userId": "01793105742760068009"
     },
     "user_tz": -210
    },
    "id": "0wgh3lQ1RuLO"
   },
   "outputs": [],
   "source": [
    "ann.add(tf.keras.layers.Dense(units=1, activation='sigmoid'))"
   ]
  },
  {
   "cell_type": "markdown",
   "metadata": {
    "id": "ta2L0uTsMfik"
   },
   "source": [
    "# <p style=\"padding:10px;background-color:#324459;margin:0;color:#eab578;font-family:newtimeroman;font-size:100%;text-align:center;border-radius: 15px 50px;overflow:hidden;font-weight:500\">Training the ANN</p>\n",
    "\n",
    "\n",
    "* <font color = \"red\">Compiling the ANN</font>"
   ]
  },
  {
   "cell_type": "code",
   "execution_count": 114,
   "metadata": {
    "executionInfo": {
     "elapsed": 47,
     "status": "ok",
     "timestamp": 1667593111539,
     "user": {
      "displayName": "Ali Hashemi",
      "userId": "01793105742760068009"
     },
     "user_tz": -210
    },
    "id": "iDygqOtgR5TH"
   },
   "outputs": [],
   "source": [
    "ann.compile(optimizer = 'adam', loss = 'binary_crossentropy', metrics = ['accuracy'])"
   ]
  },
  {
   "cell_type": "markdown",
   "metadata": {
    "id": "lX8uZK3LMmop"
   },
   "source": [
    "# <p style=\"padding:10px;background-color:#324459;margin:0;color:#eab578;font-family:newtimeroman;font-size:100%;text-align:center;border-radius: 15px 50px;overflow:hidden;font-weight:500\">Training the ANN on the Training set</p>"
   ]
  },
  {
   "cell_type": "code",
   "execution_count": 115,
   "metadata": {
    "colab": {
     "base_uri": "https://localhost:8080/"
    },
    "executionInfo": {
     "elapsed": 82307,
     "status": "ok",
     "timestamp": 1667593193799,
     "user": {
      "displayName": "Ali Hashemi",
      "userId": "01793105742760068009"
     },
     "user_tz": -210
    },
    "id": "WU1JzXtqR8yn",
    "outputId": "6be00072-5340-4e6d-c0e6-fca46da02cb2"
   },
   "outputs": [
    {
     "name": "stdout",
     "output_type": "stream",
     "text": [
      "Epoch 1/100\n",
      "250/250 [==============================] - 1s 2ms/step - loss: 0.5364 - accuracy: 0.7839\n",
      "Epoch 2/100\n",
      "250/250 [==============================] - 1s 2ms/step - loss: 0.4596 - accuracy: 0.7966\n",
      "Epoch 3/100\n",
      "250/250 [==============================] - 1s 2ms/step - loss: 0.4393 - accuracy: 0.8012\n",
      "Epoch 4/100\n",
      "250/250 [==============================] - 1s 2ms/step - loss: 0.4277 - accuracy: 0.8120\n",
      "Epoch 5/100\n",
      "250/250 [==============================] - 1s 2ms/step - loss: 0.4203 - accuracy: 0.8165\n",
      "Epoch 6/100\n",
      "250/250 [==============================] - 1s 2ms/step - loss: 0.4141 - accuracy: 0.8204\n",
      "Epoch 7/100\n",
      "250/250 [==============================] - 1s 2ms/step - loss: 0.4088 - accuracy: 0.8236\n",
      "Epoch 8/100\n",
      "250/250 [==============================] - 1s 2ms/step - loss: 0.4046 - accuracy: 0.8255\n",
      "Epoch 9/100\n",
      "250/250 [==============================] - 1s 2ms/step - loss: 0.4004 - accuracy: 0.8270\n",
      "Epoch 10/100\n",
      "250/250 [==============================] - 1s 2ms/step - loss: 0.3972 - accuracy: 0.8290\n",
      "Epoch 11/100\n",
      "250/250 [==============================] - 1s 2ms/step - loss: 0.3939 - accuracy: 0.8280\n",
      "Epoch 12/100\n",
      "250/250 [==============================] - 1s 2ms/step - loss: 0.3907 - accuracy: 0.8305\n",
      "Epoch 13/100\n",
      "250/250 [==============================] - 1s 2ms/step - loss: 0.3879 - accuracy: 0.8322\n",
      "Epoch 14/100\n",
      "250/250 [==============================] - 1s 2ms/step - loss: 0.3851 - accuracy: 0.8316\n",
      "Epoch 15/100\n",
      "250/250 [==============================] - 1s 3ms/step - loss: 0.3821 - accuracy: 0.8310\n",
      "Epoch 16/100\n",
      "250/250 [==============================] - 1s 3ms/step - loss: 0.3796 - accuracy: 0.8322\n",
      "Epoch 17/100\n",
      "250/250 [==============================] - 1s 2ms/step - loss: 0.3771 - accuracy: 0.8330\n",
      "Epoch 18/100\n",
      "250/250 [==============================] - 1s 2ms/step - loss: 0.3754 - accuracy: 0.8341\n",
      "Epoch 19/100\n",
      "250/250 [==============================] - 1s 2ms/step - loss: 0.3733 - accuracy: 0.8334\n",
      "Epoch 20/100\n",
      "250/250 [==============================] - 1s 2ms/step - loss: 0.3717 - accuracy: 0.8389\n",
      "Epoch 21/100\n",
      "250/250 [==============================] - 1s 2ms/step - loss: 0.3695 - accuracy: 0.8444\n",
      "Epoch 22/100\n",
      "250/250 [==============================] - 1s 2ms/step - loss: 0.3686 - accuracy: 0.8461\n",
      "Epoch 23/100\n",
      "250/250 [==============================] - 1s 2ms/step - loss: 0.3666 - accuracy: 0.8461\n",
      "Epoch 24/100\n",
      "250/250 [==============================] - 1s 3ms/step - loss: 0.3656 - accuracy: 0.8478\n",
      "Epoch 25/100\n",
      "250/250 [==============================] - 1s 2ms/step - loss: 0.3648 - accuracy: 0.8482\n",
      "Epoch 26/100\n",
      "250/250 [==============================] - 1s 2ms/step - loss: 0.3633 - accuracy: 0.8475\n",
      "Epoch 27/100\n",
      "250/250 [==============================] - 1s 2ms/step - loss: 0.3623 - accuracy: 0.8495\n",
      "Epoch 28/100\n",
      "250/250 [==============================] - 1s 2ms/step - loss: 0.3615 - accuracy: 0.8511\n",
      "Epoch 29/100\n",
      "250/250 [==============================] - 1s 3ms/step - loss: 0.3606 - accuracy: 0.8511\n",
      "Epoch 30/100\n",
      "250/250 [==============================] - 1s 2ms/step - loss: 0.3598 - accuracy: 0.8505\n",
      "Epoch 31/100\n",
      "250/250 [==============================] - 1s 2ms/step - loss: 0.3591 - accuracy: 0.8533\n",
      "Epoch 32/100\n",
      "250/250 [==============================] - 1s 2ms/step - loss: 0.3582 - accuracy: 0.8531\n",
      "Epoch 33/100\n",
      "250/250 [==============================] - 1s 2ms/step - loss: 0.3575 - accuracy: 0.8536\n",
      "Epoch 34/100\n",
      "250/250 [==============================] - 1s 2ms/step - loss: 0.3568 - accuracy: 0.8531\n",
      "Epoch 35/100\n",
      "250/250 [==============================] - 1s 2ms/step - loss: 0.3557 - accuracy: 0.8541\n",
      "Epoch 36/100\n",
      "250/250 [==============================] - 1s 2ms/step - loss: 0.3550 - accuracy: 0.8551\n",
      "Epoch 37/100\n",
      "250/250 [==============================] - 1s 2ms/step - loss: 0.3544 - accuracy: 0.8558\n",
      "Epoch 38/100\n",
      "250/250 [==============================] - 1s 2ms/step - loss: 0.3538 - accuracy: 0.8555\n",
      "Epoch 39/100\n",
      "250/250 [==============================] - 1s 2ms/step - loss: 0.3530 - accuracy: 0.8568\n",
      "Epoch 40/100\n",
      "250/250 [==============================] - 1s 2ms/step - loss: 0.3523 - accuracy: 0.8569\n",
      "Epoch 41/100\n",
      "250/250 [==============================] - 1s 3ms/step - loss: 0.3517 - accuracy: 0.8564\n",
      "Epoch 42/100\n",
      "250/250 [==============================] - 1s 2ms/step - loss: 0.3510 - accuracy: 0.8595\n",
      "Epoch 43/100\n",
      "250/250 [==============================] - 1s 2ms/step - loss: 0.3501 - accuracy: 0.8583\n",
      "Epoch 44/100\n",
      "250/250 [==============================] - 1s 2ms/step - loss: 0.3495 - accuracy: 0.8591\n",
      "Epoch 45/100\n",
      "250/250 [==============================] - 1s 2ms/step - loss: 0.3496 - accuracy: 0.8587\n",
      "Epoch 46/100\n",
      "250/250 [==============================] - 1s 3ms/step - loss: 0.3489 - accuracy: 0.8599\n",
      "Epoch 47/100\n",
      "250/250 [==============================] - 1s 2ms/step - loss: 0.3479 - accuracy: 0.8593\n",
      "Epoch 48/100\n",
      "250/250 [==============================] - 1s 2ms/step - loss: 0.3479 - accuracy: 0.8609\n",
      "Epoch 49/100\n",
      "250/250 [==============================] - 1s 2ms/step - loss: 0.3475 - accuracy: 0.8608\n",
      "Epoch 50/100\n",
      "250/250 [==============================] - 1s 2ms/step - loss: 0.3465 - accuracy: 0.8619\n",
      "Epoch 51/100\n",
      "250/250 [==============================] - 1s 2ms/step - loss: 0.3462 - accuracy: 0.8600\n",
      "Epoch 52/100\n",
      "250/250 [==============================] - 1s 2ms/step - loss: 0.3457 - accuracy: 0.8620\n",
      "Epoch 53/100\n",
      "250/250 [==============================] - 1s 2ms/step - loss: 0.3449 - accuracy: 0.8614\n",
      "Epoch 54/100\n",
      "250/250 [==============================] - 1s 2ms/step - loss: 0.3447 - accuracy: 0.8606\n",
      "Epoch 55/100\n",
      "250/250 [==============================] - 1s 2ms/step - loss: 0.3444 - accuracy: 0.8616\n",
      "Epoch 56/100\n",
      "250/250 [==============================] - 1s 2ms/step - loss: 0.3442 - accuracy: 0.8618\n",
      "Epoch 57/100\n",
      "250/250 [==============================] - 1s 2ms/step - loss: 0.3437 - accuracy: 0.8612\n",
      "Epoch 58/100\n",
      "250/250 [==============================] - 1s 2ms/step - loss: 0.3432 - accuracy: 0.8624\n",
      "Epoch 59/100\n",
      "250/250 [==============================] - 1s 2ms/step - loss: 0.3431 - accuracy: 0.8620\n",
      "Epoch 60/100\n",
      "250/250 [==============================] - 1s 2ms/step - loss: 0.3433 - accuracy: 0.8636\n",
      "Epoch 61/100\n",
      "250/250 [==============================] - 1s 2ms/step - loss: 0.3425 - accuracy: 0.8630\n",
      "Epoch 62/100\n",
      "250/250 [==============================] - 1s 2ms/step - loss: 0.3427 - accuracy: 0.8630\n",
      "Epoch 63/100\n",
      "250/250 [==============================] - 1s 3ms/step - loss: 0.3420 - accuracy: 0.8618\n",
      "Epoch 64/100\n",
      "250/250 [==============================] - 1s 2ms/step - loss: 0.3416 - accuracy: 0.8655\n",
      "Epoch 65/100\n",
      "250/250 [==============================] - 1s 2ms/step - loss: 0.3415 - accuracy: 0.8637\n",
      "Epoch 66/100\n",
      "250/250 [==============================] - 1s 3ms/step - loss: 0.3411 - accuracy: 0.8622\n",
      "Epoch 67/100\n",
      "250/250 [==============================] - 1s 4ms/step - loss: 0.3414 - accuracy: 0.8634\n",
      "Epoch 68/100\n",
      "250/250 [==============================] - 1s 4ms/step - loss: 0.3412 - accuracy: 0.8631\n",
      "Epoch 69/100\n",
      "250/250 [==============================] - 1s 4ms/step - loss: 0.3412 - accuracy: 0.8608\n",
      "Epoch 70/100\n",
      "250/250 [==============================] - 1s 3ms/step - loss: 0.3407 - accuracy: 0.8637\n",
      "Epoch 71/100\n",
      "250/250 [==============================] - 1s 2ms/step - loss: 0.3401 - accuracy: 0.8639\n",
      "Epoch 72/100\n",
      "250/250 [==============================] - 1s 2ms/step - loss: 0.3405 - accuracy: 0.8618\n",
      "Epoch 73/100\n",
      "250/250 [==============================] - 1s 2ms/step - loss: 0.3400 - accuracy: 0.8610\n",
      "Epoch 74/100\n",
      "250/250 [==============================] - 1s 2ms/step - loss: 0.3402 - accuracy: 0.8630\n",
      "Epoch 75/100\n",
      "250/250 [==============================] - 1s 2ms/step - loss: 0.3397 - accuracy: 0.8624\n",
      "Epoch 76/100\n",
      "250/250 [==============================] - 1s 2ms/step - loss: 0.3395 - accuracy: 0.8625\n",
      "Epoch 77/100\n",
      "250/250 [==============================] - 1s 2ms/step - loss: 0.3399 - accuracy: 0.8624\n",
      "Epoch 78/100\n",
      "250/250 [==============================] - 1s 2ms/step - loss: 0.3392 - accuracy: 0.8622\n",
      "Epoch 79/100\n",
      "250/250 [==============================] - 1s 2ms/step - loss: 0.3393 - accuracy: 0.8611\n",
      "Epoch 80/100\n",
      "250/250 [==============================] - 1s 2ms/step - loss: 0.3388 - accuracy: 0.8609\n",
      "Epoch 81/100\n",
      "250/250 [==============================] - 1s 2ms/step - loss: 0.3392 - accuracy: 0.8610\n",
      "Epoch 82/100\n",
      "250/250 [==============================] - 1s 2ms/step - loss: 0.3387 - accuracy: 0.8618\n",
      "Epoch 83/100\n",
      "250/250 [==============================] - 1s 2ms/step - loss: 0.3385 - accuracy: 0.8621\n",
      "Epoch 84/100\n",
      "250/250 [==============================] - 1s 2ms/step - loss: 0.3385 - accuracy: 0.8629\n",
      "Epoch 85/100\n",
      "250/250 [==============================] - 1s 2ms/step - loss: 0.3382 - accuracy: 0.8609\n",
      "Epoch 86/100\n",
      "250/250 [==============================] - 1s 2ms/step - loss: 0.3384 - accuracy: 0.8637\n",
      "Epoch 87/100\n",
      "250/250 [==============================] - 1s 3ms/step - loss: 0.3379 - accuracy: 0.8640\n",
      "Epoch 88/100\n",
      "250/250 [==============================] - 1s 2ms/step - loss: 0.3382 - accuracy: 0.8641\n",
      "Epoch 89/100\n",
      "250/250 [==============================] - 1s 2ms/step - loss: 0.3382 - accuracy: 0.8620\n",
      "Epoch 90/100\n",
      "250/250 [==============================] - 1s 2ms/step - loss: 0.3377 - accuracy: 0.8636\n",
      "Epoch 91/100\n",
      "250/250 [==============================] - 1s 2ms/step - loss: 0.3377 - accuracy: 0.8635\n",
      "Epoch 92/100\n",
      "250/250 [==============================] - 1s 3ms/step - loss: 0.3375 - accuracy: 0.8637\n",
      "Epoch 93/100\n",
      "250/250 [==============================] - 1s 2ms/step - loss: 0.3384 - accuracy: 0.8635\n",
      "Epoch 94/100\n",
      "250/250 [==============================] - 1s 2ms/step - loss: 0.3378 - accuracy: 0.8630\n",
      "Epoch 95/100\n",
      "250/250 [==============================] - 1s 2ms/step - loss: 0.3367 - accuracy: 0.8644\n",
      "Epoch 96/100\n",
      "250/250 [==============================] - 1s 3ms/step - loss: 0.3368 - accuracy: 0.8635\n",
      "Epoch 97/100\n",
      "250/250 [==============================] - 1s 2ms/step - loss: 0.3369 - accuracy: 0.8646\n",
      "Epoch 98/100\n",
      "250/250 [==============================] - 1s 2ms/step - loss: 0.3369 - accuracy: 0.8625\n",
      "Epoch 99/100\n",
      "250/250 [==============================] - 1s 2ms/step - loss: 0.3369 - accuracy: 0.8639\n",
      "Epoch 100/100\n",
      "250/250 [==============================] - 1s 2ms/step - loss: 0.3367 - accuracy: 0.8637\n"
     ]
    },
    {
     "data": {
      "text/plain": [
       "<keras.callbacks.History at 0x7fec861d3610>"
      ]
     },
     "execution_count": 115,
     "metadata": {},
     "output_type": "execute_result"
    }
   ],
   "source": [
    "ann.fit(X_train, y_train, batch_size = 32, epochs = 100)"
   ]
  },
  {
   "cell_type": "markdown",
   "metadata": {
    "id": "Xr3pwL18Myb4"
   },
   "source": [
    "## <p style=\"padding:10px;background-color:#324459;margin:0;color:#eab578;font-family:newtimeroman;font-size:100%;text-align:center;border-radius: 15px 50px;overflow:hidden;font-weight:500\">question</p>\n",
    "\n",
    "Making the predictions and evaluating the model\n",
    "* Predicting the result of a single observation\n",
    "Use our ANN model to predict if the customer with the following informations will leave the bank:\n",
    "\n",
    "Geography: France\n",
    "\n",
    "Credit Score: 600\n",
    "\n",
    "Gender: Male\n",
    "\n",
    "Age: 40 years old\n",
    "\n",
    "Tenure: 3 years\n",
    "\n",
    "Balance: $ 60000\n",
    "\n",
    "Number of Products: 2\n",
    "\n",
    "Does this customer have a credit card ? Yes\n",
    "\n",
    "Is this customer an Active Member: Yes\n",
    "\n",
    "Estimated Salary: $ 50000\n",
    "\n",
    "So, should we say goodbye to that customer ?"
   ]
  },
  {
   "cell_type": "markdown",
   "metadata": {
    "id": "f74RVQrVM_gO"
   },
   "source": [
    "* <font color = \"red\">Solution</font>"
   ]
  },
  {
   "cell_type": "code",
   "execution_count": 116,
   "metadata": {
    "colab": {
     "base_uri": "https://localhost:8080/"
    },
    "executionInfo": {
     "elapsed": 80,
     "status": "ok",
     "timestamp": 1667593193801,
     "user": {
      "displayName": "Ali Hashemi",
      "userId": "01793105742760068009"
     },
     "user_tz": -210
    },
    "id": "fER-D2SFR_Mu",
    "outputId": "560ccc3b-763b-4c2e-d6a0-febc66ed1260"
   },
   "outputs": [
    {
     "name": "stdout",
     "output_type": "stream",
     "text": [
      "1/1 [==============================] - 0s 59ms/step\n",
      "[[False]]\n"
     ]
    }
   ],
   "source": [
    "print(ann.predict(sc.transform([[1, 0, 0, 600, 1, 40, 3, 60000, 2, 1, 1, 50000]])) > 0.5)"
   ]
  },
  {
   "cell_type": "markdown",
   "metadata": {
    "id": "Sf7tJzF5NKuB"
   },
   "source": [
    "# <p style=\"padding:10px;background-color:#324459;margin:0;color:#eab578;font-family:newtimeroman;font-size:100%;text-align:center;border-radius: 15px 50px;overflow:hidden;font-weight:500\">Predicting the Test set results</p>"
   ]
  },
  {
   "cell_type": "code",
   "execution_count": 117,
   "metadata": {
    "colab": {
     "base_uri": "https://localhost:8080/"
    },
    "executionInfo": {
     "elapsed": 68,
     "status": "ok",
     "timestamp": 1667593193802,
     "user": {
      "displayName": "Ali Hashemi",
      "userId": "01793105742760068009"
     },
     "user_tz": -210
    },
    "id": "zacZBe24UtC5",
    "outputId": "e075004b-1e21-46a6-fe6d-496f02b41eb7"
   },
   "outputs": [
    {
     "name": "stdout",
     "output_type": "stream",
     "text": [
      "63/63 [==============================] - 0s 1ms/step\n",
      "[[0 0]\n",
      " [0 1]\n",
      " [0 0]\n",
      " ...\n",
      " [0 0]\n",
      " [0 0]\n",
      " [0 0]]\n"
     ]
    }
   ],
   "source": [
    "y_pred_test = ann.predict(X_test)\n",
    "y_pred_test = (y_pred_test > 0.5)\n",
    "print(np.concatenate((y_pred_test.reshape(len(y_pred_test),1), y_test.reshape(len(y_test),1)),1))"
   ]
  },
  {
   "cell_type": "code",
   "execution_count": 118,
   "metadata": {
    "colab": {
     "base_uri": "https://localhost:8080/"
    },
    "executionInfo": {
     "elapsed": 30,
     "status": "ok",
     "timestamp": 1667593194220,
     "user": {
      "displayName": "Ali Hashemi",
      "userId": "01793105742760068009"
     },
     "user_tz": -210
    },
    "id": "myrjPRx-WN6s",
    "outputId": "22073c3d-a54f-444d-f783-3b31dbb95898"
   },
   "outputs": [
    {
     "name": "stdout",
     "output_type": "stream",
     "text": [
      "250/250 [==============================] - 0s 1ms/step\n",
      "[[0 0]\n",
      " [1 0]\n",
      " [0 0]\n",
      " ...\n",
      " [0 0]\n",
      " [0 0]\n",
      " [1 1]]\n"
     ]
    }
   ],
   "source": [
    "y_pred_train = ann.predict(X_train)\n",
    "y_pred_train = (y_pred_train > 0.5)\n",
    "print(np.concatenate((y_pred_train.reshape(len(y_pred_train),1), y_train.reshape(len(y_train),1)),1))"
   ]
  },
  {
   "cell_type": "markdown",
   "metadata": {
    "id": "Cp5nWT4WNQn1"
   },
   "source": [
    "# <p style=\"padding:10px;background-color:#324459;margin:0;color:#eab578;font-family:newtimeroman;font-size:100%;text-align:center;border-radius: 15px 50px;overflow:hidden;font-weight:500\">Making the Confusion Matrix</p>"
   ]
  },
  {
   "cell_type": "code",
   "execution_count": 119,
   "metadata": {
    "colab": {
     "base_uri": "https://localhost:8080/",
     "height": 317
    },
    "executionInfo": {
     "elapsed": 364,
     "status": "ok",
     "timestamp": 1667593194577,
     "user": {
      "displayName": "Ali Hashemi",
      "userId": "01793105742760068009"
     },
     "user_tz": -210
    },
    "id": "vNIsBNFOVu1c",
    "outputId": "f39961db-2bf5-4e40-f30e-9a35bfbf07fb"
   },
   "outputs": [
    {
     "name": "stdout",
     "output_type": "stream",
     "text": [
      "[[1500   95]\n",
      " [ 193  212]]\n"
     ]
    },
    {
     "data": {
      "text/plain": [
       "<matplotlib.axes._subplots.AxesSubplot at 0x7fec864271d0>"
      ]
     },
     "execution_count": 119,
     "metadata": {},
     "output_type": "execute_result"
    },
    {
     "data": {
      "image/png": "[encoded data removed]",
      "text/plain": [
       "<Figure size 432x288 with 2 Axes>"
      ]
     },
     "metadata": {
      "needs_background": "light"
     },
     "output_type": "display_data"
    }
   ],
   "source": [
    "from sklearn.metrics import confusion_matrix, accuracy_score\n",
    "import seaborn as sns\n",
    "cm_test = confusion_matrix(y_test, y_pred_test)\n",
    "print(cm_test)\n",
    "sns.heatmap(cm_test, square=True , annot=True)"
   ]
  },
  {
   "cell_type": "code",
   "execution_count": 120,
   "metadata": {
    "colab": {
     "base_uri": "https://localhost:8080/",
     "height": 318
    },
    "executionInfo": {
     "elapsed": 558,
     "status": "ok",
     "timestamp": 1667593195128,
     "user": {
      "displayName": "Ali Hashemi",
      "userId": "01793105742760068009"
     },
     "user_tz": -210
    },
    "id": "uMGtw2K0Vwna",
    "outputId": "41dd5ba2-4c9f-4054-b5ea-688297551572"
   },
   "outputs": [
    {
     "name": "stdout",
     "output_type": "stream",
     "text": [
      "[[6092  276]\n",
      " [ 807  825]]\n"
     ]
    },
    {
     "data": {
      "text/plain": [
       "<matplotlib.axes._subplots.AxesSubplot at 0x7fec81f95490>"
      ]
     },
     "execution_count": 120,
     "metadata": {},
     "output_type": "execute_result"
    },
    {
     "data": {
      "image/png": "[encoded data removed]",
      "text/plain": [
       "<Figure size 432x288 with 2 Axes>"
      ]
     },
     "metadata": {
      "needs_background": "light"
     },
     "output_type": "display_data"
    }
   ],
   "source": [
    "cm_train = confusion_matrix(y_train, y_pred_train)\n",
    "print(cm_train)\n",
    "sns.heatmap(cm_train, square=True , annot=True)"
   ]
  },
  {
   "cell_type": "code",
   "execution_count": 121,
   "metadata": {
    "colab": {
     "base_uri": "https://localhost:8080/"
    },
    "executionInfo": {
     "elapsed": 23,
     "status": "ok",
     "timestamp": 1667593195135,
     "user": {
      "displayName": "Ali Hashemi",
      "userId": "01793105742760068009"
     },
     "user_tz": -210
    },
    "id": "UWIH9QRGs75k",
    "outputId": "f7c4a3fe-79a4-46c4-9b3e-5b008aa378a6"
   },
   "outputs": [
    {
     "name": "stdout",
     "output_type": "stream",
     "text": [
      "Accuracy_train:  0.864625\n",
      "Accuracy_test:  0.856\n",
      "Precision_train:  0.816172663336668\n",
      "Precision_test:  0.7882774636316237\n",
      "Recall_train:  0.7310864986698197\n",
      "Recall_test:  0.7319478307984055\n"
     ]
    }
   ],
   "source": [
    "from sklearn.metrics import precision_score, accuracy_score, recall_score\n",
    "print('Accuracy_train: ' ,accuracy_score(y_train, y_pred_train))\n",
    "print('Accuracy_test: ' ,accuracy_score(y_test, y_pred_test))\n",
    "\n",
    "print('Precision_train: ' ,precision_score(y_train, y_pred_train,average='macro'))\n",
    "print('Precision_test: ' ,precision_score(y_test, y_pred_test,average='macro'))\n",
    "\n",
    "print('Recall_train: ' ,recall_score(y_train, y_pred_train,average='macro'))\n",
    "print('Recall_test: ' ,recall_score(y_test, y_pred_test,average='macro'))"
   ]
  },
  {
   "cell_type": "markdown",
   "metadata": {
    "id": "gS6NUz4Kv8uF"
   },
   "source": [
    "| | Accuracy  | Precision    | Recall   | \n",
    "|---:|:-------------|:-----------|:------|\n",
    "| train | 0.8646  | 0.8161       | 0.7310   |\n",
    "| test | 0.856  | 0.7882    | 0.7319   |\n"
   ]
  },
  {
   "cell_type": "markdown",
   "metadata": {
    "id": "mClfpKOgxg2D"
   },
   "source": [
    "## <p style=\"padding:10px;background-color:#324459;margin:0;color:#eab578;font-family:newtimeroman;font-size:100%;text-align:center;border-radius: 15px 50px;overflow:hidden;font-weight:500\">Building the ANN(batch size = 16)</p>"
   ]
  },
  {
   "cell_type": "code",
   "execution_count": 122,
   "metadata": {
    "colab": {
     "base_uri": "https://localhost:8080/"
    },
    "executionInfo": {
     "elapsed": 142287,
     "status": "ok",
     "timestamp": 1667593337405,
     "user": {
      "displayName": "Ali Hashemi",
      "userId": "01793105742760068009"
     },
     "user_tz": -210
    },
    "id": "gn1svjmHZCoq",
    "outputId": "1e6975d4-6b39-4863-fb67-536f5056bd03"
   },
   "outputs": [
    {
     "name": "stdout",
     "output_type": "stream",
     "text": [
      "Epoch 1/100\n",
      "500/500 [==============================] - 2s 3ms/step - loss: 0.5379 - accuracy: 0.7960\n",
      "Epoch 2/100\n",
      "500/500 [==============================] - 1s 2ms/step - loss: 0.4741 - accuracy: 0.7960\n",
      "Epoch 3/100\n",
      "500/500 [==============================] - 1s 2ms/step - loss: 0.4442 - accuracy: 0.7960\n",
      "Epoch 4/100\n",
      "500/500 [==============================] - 1s 2ms/step - loss: 0.4284 - accuracy: 0.7960\n",
      "Epoch 5/100\n",
      "500/500 [==============================] - 1s 2ms/step - loss: 0.4197 - accuracy: 0.7960\n",
      "Epoch 6/100\n",
      "500/500 [==============================] - 1s 2ms/step - loss: 0.4123 - accuracy: 0.7960\n",
      "Epoch 7/100\n",
      "500/500 [==============================] - 1s 2ms/step - loss: 0.4054 - accuracy: 0.8155\n",
      "Epoch 8/100\n",
      "500/500 [==============================] - 1s 2ms/step - loss: 0.4006 - accuracy: 0.8245\n",
      "Epoch 9/100\n",
      "500/500 [==============================] - 1s 2ms/step - loss: 0.3936 - accuracy: 0.8292\n",
      "Epoch 10/100\n",
      "500/500 [==============================] - 1s 2ms/step - loss: 0.3862 - accuracy: 0.8321\n",
      "Epoch 11/100\n",
      "500/500 [==============================] - 1s 2ms/step - loss: 0.3805 - accuracy: 0.8350\n",
      "Epoch 12/100\n",
      "500/500 [==============================] - 1s 3ms/step - loss: 0.3755 - accuracy: 0.8381\n",
      "Epoch 13/100\n",
      "500/500 [==============================] - 1s 2ms/step - loss: 0.3727 - accuracy: 0.8393\n",
      "Epoch 14/100\n",
      "500/500 [==============================] - 1s 3ms/step - loss: 0.3693 - accuracy: 0.8420\n",
      "Epoch 15/100\n",
      "500/500 [==============================] - 1s 2ms/step - loss: 0.3667 - accuracy: 0.8455\n",
      "Epoch 16/100\n",
      "500/500 [==============================] - 1s 2ms/step - loss: 0.3633 - accuracy: 0.8462\n",
      "Epoch 17/100\n",
      "500/500 [==============================] - 1s 2ms/step - loss: 0.3603 - accuracy: 0.8515\n",
      "Epoch 18/100\n",
      "500/500 [==============================] - 1s 2ms/step - loss: 0.3568 - accuracy: 0.8545\n",
      "Epoch 19/100\n",
      "500/500 [==============================] - 1s 2ms/step - loss: 0.3532 - accuracy: 0.8571\n",
      "Epoch 20/100\n",
      "500/500 [==============================] - 1s 2ms/step - loss: 0.3502 - accuracy: 0.8590\n",
      "Epoch 21/100\n",
      "500/500 [==============================] - 1s 2ms/step - loss: 0.3473 - accuracy: 0.8595\n",
      "Epoch 22/100\n",
      "500/500 [==============================] - 1s 2ms/step - loss: 0.3462 - accuracy: 0.8615\n",
      "Epoch 23/100\n",
      "500/500 [==============================] - 1s 3ms/step - loss: 0.3445 - accuracy: 0.8605\n",
      "Epoch 24/100\n",
      "500/500 [==============================] - 1s 2ms/step - loss: 0.3432 - accuracy: 0.8609\n",
      "Epoch 25/100\n",
      "500/500 [==============================] - 1s 2ms/step - loss: 0.3419 - accuracy: 0.8619\n",
      "Epoch 26/100\n",
      "500/500 [==============================] - 1s 2ms/step - loss: 0.3411 - accuracy: 0.8627\n",
      "Epoch 27/100\n",
      "500/500 [==============================] - 1s 2ms/step - loss: 0.3402 - accuracy: 0.8626\n",
      "Epoch 28/100\n",
      "500/500 [==============================] - 1s 2ms/step - loss: 0.3400 - accuracy: 0.8634\n",
      "Epoch 29/100\n",
      "500/500 [==============================] - 1s 2ms/step - loss: 0.3394 - accuracy: 0.8636\n",
      "Epoch 30/100\n",
      "500/500 [==============================] - 1s 2ms/step - loss: 0.3388 - accuracy: 0.8621\n",
      "Epoch 31/100\n",
      "500/500 [==============================] - 1s 2ms/step - loss: 0.3377 - accuracy: 0.8640\n",
      "Epoch 32/100\n",
      "500/500 [==============================] - 1s 2ms/step - loss: 0.3375 - accuracy: 0.8625\n",
      "Epoch 33/100\n",
      "500/500 [==============================] - 1s 2ms/step - loss: 0.3369 - accuracy: 0.8625\n",
      "Epoch 34/100\n",
      "500/500 [==============================] - 1s 2ms/step - loss: 0.3370 - accuracy: 0.8622\n",
      "Epoch 35/100\n",
      "500/500 [==============================] - 1s 2ms/step - loss: 0.3361 - accuracy: 0.8615\n",
      "Epoch 36/100\n",
      "500/500 [==============================] - 1s 2ms/step - loss: 0.3362 - accuracy: 0.8655\n",
      "Epoch 37/100\n",
      "500/500 [==============================] - 1s 2ms/step - loss: 0.3357 - accuracy: 0.8636\n",
      "Epoch 38/100\n",
      "500/500 [==============================] - 1s 2ms/step - loss: 0.3360 - accuracy: 0.8633\n",
      "Epoch 39/100\n",
      "500/500 [==============================] - 1s 2ms/step - loss: 0.3350 - accuracy: 0.8629\n",
      "Epoch 40/100\n",
      "500/500 [==============================] - 1s 2ms/step - loss: 0.3351 - accuracy: 0.8624\n",
      "Epoch 41/100\n",
      "500/500 [==============================] - 1s 2ms/step - loss: 0.3351 - accuracy: 0.8627\n",
      "Epoch 42/100\n",
      "500/500 [==============================] - 1s 2ms/step - loss: 0.3350 - accuracy: 0.8636\n",
      "Epoch 43/100\n",
      "500/500 [==============================] - 1s 2ms/step - loss: 0.3346 - accuracy: 0.8627\n",
      "Epoch 44/100\n",
      "500/500 [==============================] - 1s 2ms/step - loss: 0.3337 - accuracy: 0.8626\n",
      "Epoch 45/100\n",
      "500/500 [==============================] - 1s 2ms/step - loss: 0.3348 - accuracy: 0.8629\n",
      "Epoch 46/100\n",
      "500/500 [==============================] - 1s 2ms/step - loss: 0.3343 - accuracy: 0.8646\n",
      "Epoch 47/100\n",
      "500/500 [==============================] - 1s 2ms/step - loss: 0.3344 - accuracy: 0.8643\n",
      "Epoch 48/100\n",
      "500/500 [==============================] - 1s 2ms/step - loss: 0.3345 - accuracy: 0.8621\n",
      "Epoch 49/100\n",
      "500/500 [==============================] - 1s 2ms/step - loss: 0.3339 - accuracy: 0.8643\n",
      "Epoch 50/100\n",
      "500/500 [==============================] - 1s 2ms/step - loss: 0.3339 - accuracy: 0.8631\n",
      "Epoch 51/100\n",
      "500/500 [==============================] - 1s 2ms/step - loss: 0.3339 - accuracy: 0.8620\n",
      "Epoch 52/100\n",
      "500/500 [==============================] - 1s 2ms/step - loss: 0.3338 - accuracy: 0.8626\n",
      "Epoch 53/100\n",
      "500/500 [==============================] - 1s 2ms/step - loss: 0.3330 - accuracy: 0.8610\n",
      "Epoch 54/100\n",
      "500/500 [==============================] - 1s 2ms/step - loss: 0.3340 - accuracy: 0.8624\n",
      "Epoch 55/100\n",
      "500/500 [==============================] - 1s 2ms/step - loss: 0.3339 - accuracy: 0.8635\n",
      "Epoch 56/100\n",
      "500/500 [==============================] - 1s 2ms/step - loss: 0.3334 - accuracy: 0.8608\n",
      "Epoch 57/100\n",
      "500/500 [==============================] - 1s 2ms/step - loss: 0.3337 - accuracy: 0.8636\n",
      "Epoch 58/100\n",
      "500/500 [==============================] - 1s 2ms/step - loss: 0.3337 - accuracy: 0.8622\n",
      "Epoch 59/100\n",
      "500/500 [==============================] - 1s 2ms/step - loss: 0.3334 - accuracy: 0.8629\n",
      "Epoch 60/100\n",
      "500/500 [==============================] - 1s 2ms/step - loss: 0.3333 - accuracy: 0.8619\n",
      "Epoch 61/100\n",
      "500/500 [==============================] - 1s 2ms/step - loss: 0.3335 - accuracy: 0.8611\n",
      "Epoch 62/100\n",
      "500/500 [==============================] - 1s 2ms/step - loss: 0.3332 - accuracy: 0.8636\n",
      "Epoch 63/100\n",
      "500/500 [==============================] - 1s 2ms/step - loss: 0.3328 - accuracy: 0.8629\n",
      "Epoch 64/100\n",
      "500/500 [==============================] - 1s 2ms/step - loss: 0.3337 - accuracy: 0.8624\n",
      "Epoch 65/100\n",
      "500/500 [==============================] - 1s 2ms/step - loss: 0.3327 - accuracy: 0.8626\n",
      "Epoch 66/100\n",
      "500/500 [==============================] - 1s 2ms/step - loss: 0.3328 - accuracy: 0.8630\n",
      "Epoch 67/100\n",
      "500/500 [==============================] - 1s 2ms/step - loss: 0.3329 - accuracy: 0.8625\n",
      "Epoch 68/100\n",
      "500/500 [==============================] - 1s 2ms/step - loss: 0.3328 - accuracy: 0.8640\n",
      "Epoch 69/100\n",
      "500/500 [==============================] - 1s 2ms/step - loss: 0.3329 - accuracy: 0.8633\n",
      "Epoch 70/100\n",
      "500/500 [==============================] - 1s 2ms/step - loss: 0.3334 - accuracy: 0.8627\n",
      "Epoch 71/100\n",
      "500/500 [==============================] - 1s 2ms/step - loss: 0.3325 - accuracy: 0.8637\n",
      "Epoch 72/100\n",
      "500/500 [==============================] - 1s 2ms/step - loss: 0.3327 - accuracy: 0.8639\n",
      "Epoch 73/100\n",
      "500/500 [==============================] - 1s 2ms/step - loss: 0.3329 - accuracy: 0.8616\n",
      "Epoch 74/100\n",
      "500/500 [==============================] - 1s 2ms/step - loss: 0.3325 - accuracy: 0.8620\n",
      "Epoch 75/100\n",
      "500/500 [==============================] - 1s 2ms/step - loss: 0.3323 - accuracy: 0.8641\n",
      "Epoch 76/100\n",
      "500/500 [==============================] - 1s 2ms/step - loss: 0.3329 - accuracy: 0.8635\n",
      "Epoch 77/100\n",
      "500/500 [==============================] - 1s 2ms/step - loss: 0.3328 - accuracy: 0.8622\n",
      "Epoch 78/100\n",
      "500/500 [==============================] - 1s 2ms/step - loss: 0.3331 - accuracy: 0.8626\n",
      "Epoch 79/100\n",
      "500/500 [==============================] - 1s 2ms/step - loss: 0.3324 - accuracy: 0.8621\n",
      "Epoch 80/100\n",
      "500/500 [==============================] - 1s 2ms/step - loss: 0.3326 - accuracy: 0.8633\n",
      "Epoch 81/100\n",
      "500/500 [==============================] - 1s 2ms/step - loss: 0.3331 - accuracy: 0.8621\n",
      "Epoch 82/100\n",
      "500/500 [==============================] - 1s 2ms/step - loss: 0.3325 - accuracy: 0.8620\n",
      "Epoch 83/100\n",
      "500/500 [==============================] - 1s 2ms/step - loss: 0.3329 - accuracy: 0.8646\n",
      "Epoch 84/100\n",
      "500/500 [==============================] - 1s 2ms/step - loss: 0.3324 - accuracy: 0.8651\n",
      "Epoch 85/100\n",
      "500/500 [==============================] - 1s 2ms/step - loss: 0.3324 - accuracy: 0.8615\n",
      "Epoch 86/100\n",
      "500/500 [==============================] - 1s 2ms/step - loss: 0.3329 - accuracy: 0.8636\n",
      "Epoch 87/100\n",
      "500/500 [==============================] - 1s 2ms/step - loss: 0.3323 - accuracy: 0.8627\n",
      "Epoch 88/100\n",
      "500/500 [==============================] - 1s 2ms/step - loss: 0.3327 - accuracy: 0.8644\n",
      "Epoch 89/100\n",
      "500/500 [==============================] - 1s 2ms/step - loss: 0.3318 - accuracy: 0.8625\n",
      "Epoch 90/100\n",
      "500/500 [==============================] - 1s 2ms/step - loss: 0.3327 - accuracy: 0.8635\n",
      "Epoch 91/100\n",
      "500/500 [==============================] - 1s 2ms/step - loss: 0.3319 - accuracy: 0.8643\n",
      "Epoch 92/100\n",
      "500/500 [==============================] - 1s 2ms/step - loss: 0.3324 - accuracy: 0.8616\n",
      "Epoch 93/100\n",
      "500/500 [==============================] - 1s 2ms/step - loss: 0.3324 - accuracy: 0.8649\n",
      "Epoch 94/100\n",
      "500/500 [==============================] - 1s 2ms/step - loss: 0.3325 - accuracy: 0.8625\n",
      "Epoch 95/100\n",
      "500/500 [==============================] - 1s 2ms/step - loss: 0.3324 - accuracy: 0.8644\n",
      "Epoch 96/100\n",
      "500/500 [==============================] - 1s 2ms/step - loss: 0.3319 - accuracy: 0.8631\n",
      "Epoch 97/100\n",
      "500/500 [==============================] - 1s 2ms/step - loss: 0.3324 - accuracy: 0.8648\n",
      "Epoch 98/100\n",
      "500/500 [==============================] - 1s 2ms/step - loss: 0.3318 - accuracy: 0.8624\n",
      "Epoch 99/100\n",
      "500/500 [==============================] - 1s 2ms/step - loss: 0.3318 - accuracy: 0.8648\n",
      "Epoch 100/100\n",
      "500/500 [==============================] - 1s 2ms/step - loss: 0.3321 - accuracy: 0.8641\n"
     ]
    },
    {
     "data": {
      "text/plain": [
       "<keras.callbacks.History at 0x7fec941fcc50>"
      ]
     },
     "execution_count": 122,
     "metadata": {},
     "output_type": "execute_result"
    }
   ],
   "source": [
    "ann_16 = tf.keras.models.Sequential()\n",
    "ann_16.add(tf.keras.layers.Dense(units=6, activation='relu'))\n",
    "ann_16.add(tf.keras.layers.Dense(units=6, activation='relu'))\n",
    "ann_16.add(tf.keras.layers.Dense(units=1, activation='sigmoid'))\n",
    "ann_16.compile(optimizer = 'adam', loss = 'binary_crossentropy', metrics = ['accuracy'])\n",
    "ann_16.fit(X_train, y_train, batch_size = 16, epochs = 100)"
   ]
  },
  {
   "cell_type": "code",
   "execution_count": 123,
   "metadata": {
    "colab": {
     "base_uri": "https://localhost:8080/"
    },
    "executionInfo": {
     "elapsed": 31,
     "status": "ok",
     "timestamp": 1667593337406,
     "user": {
      "displayName": "Ali Hashemi",
      "userId": "01793105742760068009"
     },
     "user_tz": -210
    },
    "id": "QmAcZZ8qZnLU",
    "outputId": "77bc8a65-c109-4efb-9215-244b321fe0b0"
   },
   "outputs": [
    {
     "name": "stdout",
     "output_type": "stream",
     "text": [
      "63/63 [==============================] - 0s 1ms/step\n",
      "[[0 0]\n",
      " [0 1]\n",
      " [0 0]\n",
      " ...\n",
      " [0 0]\n",
      " [0 0]\n",
      " [0 0]]\n"
     ]
    }
   ],
   "source": [
    "ay_pred_test = ann_16.predict(X_test)\n",
    "y_pred_test = (y_pred_test > 0.5)\n",
    "print(np.concatenate((y_pred_test.reshape(len(y_pred_test),1), y_test.reshape(len(y_test),1)),1))"
   ]
  },
  {
   "cell_type": "code",
   "execution_count": 124,
   "metadata": {
    "colab": {
     "base_uri": "https://localhost:8080/"
    },
    "executionInfo": {
     "elapsed": 893,
     "status": "ok",
     "timestamp": 1667593338272,
     "user": {
      "displayName": "Ali Hashemi",
      "userId": "01793105742760068009"
     },
     "user_tz": -210
    },
    "id": "DeMe-mesZ_fn",
    "outputId": "28e427e1-be80-4137-c89e-6cb16808f701"
   },
   "outputs": [
    {
     "name": "stdout",
     "output_type": "stream",
     "text": [
      "250/250 [==============================] - 0s 1ms/step\n",
      "[[0 0]\n",
      " [0 0]\n",
      " [0 0]\n",
      " ...\n",
      " [0 0]\n",
      " [0 0]\n",
      " [1 1]]\n"
     ]
    }
   ],
   "source": [
    "y_pred_train = ann_16.predict(X_train)\n",
    "y_pred_train = (y_pred_train > 0.5)\n",
    "print(np.concatenate((y_pred_train.reshape(len(y_pred_train),1), y_train.reshape(len(y_train),1)),1))"
   ]
  },
  {
   "cell_type": "code",
   "execution_count": 125,
   "metadata": {
    "colab": {
     "base_uri": "https://localhost:8080/",
     "height": 317
    },
    "executionInfo": {
     "elapsed": 18,
     "status": "ok",
     "timestamp": 1667593338273,
     "user": {
      "displayName": "Ali Hashemi",
      "userId": "01793105742760068009"
     },
     "user_tz": -210
    },
    "id": "TKgDDDmQaGI6",
    "outputId": "839e695a-a5c9-442e-adcb-8c76b0de0971"
   },
   "outputs": [
    {
     "name": "stdout",
     "output_type": "stream",
     "text": [
      "[[1500   95]\n",
      " [ 193  212]]\n"
     ]
    },
    {
     "data": {
      "text/plain": [
       "<matplotlib.axes._subplots.AxesSubplot at 0x7fec81df4c50>"
      ]
     },
     "execution_count": 125,
     "metadata": {},
     "output_type": "execute_result"
    },
    {
     "data": {
      "image/png": "[encoded data removed]",
      "text/plain": [
       "<Figure size 432x288 with 2 Axes>"
      ]
     },
     "metadata": {
      "needs_background": "light"
     },
     "output_type": "display_data"
    }
   ],
   "source": [
    "cm_test = confusion_matrix(y_test, y_pred_test)\n",
    "print(cm_test)\n",
    "sns.heatmap(cm_test, square=True , annot=True)"
   ]
  },
  {
   "cell_type": "code",
   "execution_count": 126,
   "metadata": {
    "colab": {
     "base_uri": "https://localhost:8080/",
     "height": 319
    },
    "executionInfo": {
     "elapsed": 549,
     "status": "ok",
     "timestamp": 1667593338816,
     "user": {
      "displayName": "Ali Hashemi",
      "userId": "01793105742760068009"
     },
     "user_tz": -210
    },
    "id": "oN9q27ucaLo1",
    "outputId": "535b4bb0-cd13-4bbb-bf95-671ce669f313"
   },
   "outputs": [
    {
     "name": "stdout",
     "output_type": "stream",
     "text": [
      "[[6058  310]\n",
      " [ 783  849]]\n"
     ]
    },
    {
     "data": {
      "text/plain": [
       "<matplotlib.axes._subplots.AxesSubplot at 0x7fec9511a890>"
      ]
     },
     "execution_count": 126,
     "metadata": {},
     "output_type": "execute_result"
    },
    {
     "data": {
      "image/png": "[encoded data removed]",
      "text/plain": [
       "<Figure size 432x288 with 2 Axes>"
      ]
     },
     "metadata": {
      "needs_background": "light"
     },
     "output_type": "display_data"
    }
   ],
   "source": [
    "cm_train = confusion_matrix(y_train, y_pred_train)\n",
    "print(cm_train)\n",
    "sns.heatmap(cm_train, square=True , annot=True)"
   ]
  },
  {
   "cell_type": "code",
   "execution_count": 127,
   "metadata": {
    "colab": {
     "base_uri": "https://localhost:8080/"
    },
    "executionInfo": {
     "elapsed": 17,
     "status": "ok",
     "timestamp": 1667593338818,
     "user": {
      "displayName": "Ali Hashemi",
      "userId": "01793105742760068009"
     },
     "user_tz": -210
    },
    "id": "cVuI6q-daN2n",
    "outputId": "e7625428-eadb-415a-bd61-2ec28ec814e3"
   },
   "outputs": [
    {
     "name": "stdout",
     "output_type": "stream",
     "text": [
      "Accuracy_train:  0.863375\n",
      "Accuracy_test:  0.856\n",
      "Precision_train:  0.8090355453384084\n",
      "Precision_test:  0.7882774636316237\n",
      "Recall_train:  0.7357698418563405\n",
      "Recall_test:  0.7319478307984055\n"
     ]
    }
   ],
   "source": [
    "print('Accuracy_train: ' ,accuracy_score(y_train, y_pred_train))\n",
    "print('Accuracy_test: ' ,accuracy_score(y_test, y_pred_test))\n",
    "\n",
    "print('Precision_train: ' ,precision_score(y_train, y_pred_train,average='macro'))\n",
    "print('Precision_test: ' ,precision_score(y_test, y_pred_test,average='macro'))\n",
    "\n",
    "print('Recall_train: ' ,recall_score(y_train, y_pred_train,average='macro'))\n",
    "print('Recall_test: ' ,recall_score(y_test, y_pred_test,average='macro'))"
   ]
  }
 ],
 "metadata": {
  "accelerator": "GPU",
  "colab": {
   "authorship_tag": "ABX9TyNe9ZFXTqjG5+SejAhelSBH",
   "provenance": []
  },
  "gpuClass": "standard",
  "kernelspec": {
   "display_name": "Python 3 (ipykernel)",
   "language": "python",
   "name": "python3"
  },
  "language_info": {
   "codemirror_mode": {
    "name": "ipython",
    "version": 3
   },
   "file_extension": ".py",
   "mimetype": "text/x-python",
   "name": "python",
   "nbconvert_exporter": "python",
   "pygments_lexer": "ipython3",
   "version": "3.9.12"
  }
 },
 "nbformat": 4,
 "nbformat_minor": 1
}
